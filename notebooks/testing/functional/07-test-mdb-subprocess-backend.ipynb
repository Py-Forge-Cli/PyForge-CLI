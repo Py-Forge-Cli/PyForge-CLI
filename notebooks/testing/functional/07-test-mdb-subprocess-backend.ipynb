{
 "cells": [
  {
   "cell_type": "markdown",
   "metadata": {},
   "source": [
    "# PyForge CLI MDB Conversion Testing with Subprocess Backend\n",
    "\n",
    "This notebook tests the new subprocess backend for MDB/Access file conversion in Databricks Serverless environment.\n",
    "\n",
    "## Key Features:\n",
    "- Uses Java subprocess instead of JPype (works in Databricks Serverless)\n",
    "- Automatic fallback when JPype fails\n",
    "- Same functionality as regular UCanAccess backend"
   ]
  },
  {
   "cell_type": "markdown",
   "metadata": {},
   "source": [
    "## Step 1: Install PyForge CLI with Subprocess Backend Fix"
   ]
  },
  {
   "cell_type": "code",
   "execution_count": null,
   "metadata": {},
   "outputs": [],
   "source": [
    "# Install from the wheel with subprocess backend fix\n",
    "# Update the version number as needed\n",
    "%pip install /Volumes/cortex_dev_catalog/sandbox_testing/pkgs/usa-sdandey@deloitte.com/pyforge_cli-1.0.9.dev4-py3-none-any.whl --no-cache-dir --quiet --index-url https://pypi.org/simple/ --trusted-host pypi.org"
   ]
  },
  {
   "cell_type": "code",
   "execution_count": null,
   "metadata": {},
   "outputs": [],
   "source": [
    "# Restart Python to ensure clean import\n",
    "dbutils.library.restartPython()"
   ]
  },
  {
   "cell_type": "markdown",
   "metadata": {},
   "source": [
    "## Step 2: Verify Installation and Environment"
   ]
  },
  {
   "cell_type": "code",
   "execution_count": null,
   "metadata": {},
   "outputs": [],
   "source": [
    "# Check PyForge version\n",
    "import subprocess\n",
    "result = subprocess.run(['pyforge', '--version'], capture_output=True, text=True)\n",
    "print(\"=== PyForge CLI Version ===\")\n",
    "print(result.stdout)\n",
    "\n",
    "# Check Java version\n",
    "result = subprocess.run(['java', '-version'], capture_output=True, text=True)\n",
    "print(\"\\n=== Java Version ===\")\n",
    "print(result.stderr.split('\\n')[0] if result.stderr else result.stdout)\n",
    "\n",
    "# Check environment variables\n",
    "import os\n",
    "print(\"\\n=== Environment Variables ===\")\n",
    "print(f\"IS_SERVERLESS: {os.environ.get('IS_SERVERLESS', 'Not set')}\")\n",
    "print(f\"SPARK_CONNECT_MODE_ENABLED: {os.environ.get('SPARK_CONNECT_MODE_ENABLED', 'Not set')}\")\n",
    "print(f\"DB_INSTANCE_TYPE: {os.environ.get('DB_INSTANCE_TYPE', 'Not set')}\")\n",
    "\n",
    "print(\"\\n=== Working Directory ===\")\n",
    "print(os.getcwd())"
   ]
  },
  {
   "cell_type": "markdown",
   "metadata": {},
   "source": [
    "## Step 3: Test MDB Conversion with Subprocess Backend"
   ]
  },
  {
   "cell_type": "code",
   "execution_count": null,
   "metadata": {},
   "outputs": [],
   "source": "# Test conversion of Northwind ACCDB file\nimport subprocess\n\nprint(\"=== Converting Northwind_2007_VBNet.accdb to Parquet ===\")\nresult = subprocess.run([\n    'pyforge', 'convert', \n    '/Volumes/cortex_dev_catalog/0000_santosh/volume_sandbox/sample-datasets/access/small/Northwind_2007_VBNet.accdb',\n    '--format', 'parquet', \n    '--force'\n], capture_output=True, text=True)\n\nprint(\"Output:\")\nprint(result.stdout)\nif result.stderr:\n    print(\"\\nErrors:\")\n    print(result.stderr)\n    \nprint(\"\\nReturn code:\", result.returncode)"
  },
  {
   "cell_type": "code",
   "execution_count": null,
   "metadata": {},
   "outputs": [],
   "source": "# Test conversion of Sakila MDB file\nprint(\"\\n\" + \"=\"*80)\nprint(\"=== Converting access_sakila.mdb to Parquet ===\")\nresult = subprocess.run([\n    'pyforge', 'convert',\n    '/Volumes/cortex_dev_catalog/0000_santosh/volume_sandbox/sample-datasets/access/small/access_sakila.mdb',\n    '--format', 'parquet', \n    '--force'\n], capture_output=True, text=True)\n\nprint(\"Output:\")\nprint(result.stdout)\nif result.stderr:\n    print(\"\\nErrors:\")\n    print(result.stderr)\n    \nprint(\"\\nReturn code:\", result.returncode)"
  },
  {
   "cell_type": "code",
   "execution_count": null,
   "metadata": {},
   "outputs": [],
   "source": "# Test conversion of sample_dibi MDB file\nprint(\"\\n\" + \"=\"*80)\nprint(\"=== Converting sample_dibi.mdb to Parquet ===\")\nresult = subprocess.run([\n    'pyforge', 'convert',\n    '/Volumes/cortex_dev_catalog/0000_santosh/volume_sandbox/sample-datasets/access/small/sample_dibi.mdb',\n    '--format', 'parquet', \n    '--force'\n], capture_output=True, text=True)\n\nprint(\"Output:\")\nprint(result.stdout)\nif result.stderr:\n    print(\"\\nErrors:\")\n    print(result.stderr)\n    \nprint(\"\\nReturn code:\", result.returncode)"
  },
  {
   "cell_type": "markdown",
   "metadata": {},
   "source": [
    "## Step 4: Verify Output Files"
   ]
  },
  {
   "cell_type": "code",
   "execution_count": null,
   "metadata": {},
   "outputs": [],
   "source": [
    "# List generated files\n",
    "import os\n",
    "import glob\n",
    "\n",
    "print(\"=== Generated Parquet Files ===\")\n",
    "parquet_files = glob.glob(\"*.parquet\")\n",
    "if parquet_files:\n",
    "    for f in parquet_files:\n",
    "        size = os.path.getsize(f) / 1024 / 1024  # Convert to MB\n",
    "        print(f\"{f} ({size:.2f} MB)\")\n",
    "else:\n",
    "    print(\"No Parquet files found in current directory\")\n",
    "\n",
    "print(\"\\n=== Checking for output directories ===\")\n",
    "dirs = [d for d in os.listdir('.') if os.path.isdir(d) and any(name in d for name in ['Northwind', 'sakila', 'dibi'])]\n",
    "if dirs:\n",
    "    for d in dirs:\n",
    "        print(f\"Directory: {d}\")\n",
    "else:\n",
    "    print(\"No output directories found\")"
   ]
  },
  {
   "cell_type": "markdown",
   "metadata": {},
   "source": [
    "## Step 5: Test Python API Directly"
   ]
  },
  {
   "cell_type": "code",
   "execution_count": null,
   "metadata": {},
   "outputs": [],
   "source": [
    "import os\n",
    "import logging\n",
    "from pathlib import Path\n",
    "\n",
    "# Enable debug logging\n",
    "logging.basicConfig(level=logging.DEBUG)\n",
    "\n",
    "# Test the backend detection\n",
    "print(\"Testing backend detection in Databricks Serverless...\")\n",
    "\n",
    "# Import and test\n",
    "try:\n",
    "    from pyforge_cli.backends.ucanaccess_backend import UCanAccessBackend\n",
    "    from pyforge_cli.backends.ucanaccess_subprocess_backend import UCanAccessSubprocessBackend\n",
    "    \n",
    "    # Test regular backend (should fail in serverless)\n",
    "    print(\"\\n1. Testing regular UCanAccess backend:\")\n",
    "    regular_backend = UCanAccessBackend()\n",
    "    print(f\"   Available: {regular_backend.is_available()}\")\n",
    "    \n",
    "    # Test subprocess backend (should work)\n",
    "    print(\"\\n2. Testing subprocess backend:\")\n",
    "    subprocess_backend = UCanAccessSubprocessBackend()\n",
    "    print(f\"   Available: {subprocess_backend.is_available()}\")\n",
    "    \n",
    "    # Test connection\n",
    "    if subprocess_backend.is_available():\n",
    "        test_file = \"/Volumes/cortex_dev_catalog/0000_santosh/volume_sandbox/sample-datasets/access/small/access_sakila.mdb\"\n",
    "        print(f\"\\n3. Testing connection to: {test_file}\")\n",
    "        \n",
    "        if subprocess_backend.connect(test_file):\n",
    "            print(\"   ✓ Connection successful\")\n",
    "            \n",
    "            # List tables\n",
    "            tables = subprocess_backend.list_tables()\n",
    "            print(f\"   ✓ Found {len(tables)} tables\")\n",
    "            for table in tables[:5]:  # Show first 5 tables\n",
    "                print(f\"      - {table}\")\n",
    "            \n",
    "            # Close connection\n",
    "            subprocess_backend.close()\n",
    "            print(\"   ✓ Connection closed\")\n",
    "        else:\n",
    "            print(\"   ✗ Connection failed\")\n",
    "            \n",
    "except Exception as e:\n",
    "    print(f\"\\nError: {e}\")\n",
    "    import traceback\n",
    "    traceback.print_exc()"
   ]
  },
  {
   "cell_type": "markdown",
   "metadata": {},
   "source": [
    "## Step 6: Test with Different Output Formats"
   ]
  },
  {
   "cell_type": "code",
   "execution_count": null,
   "metadata": {},
   "outputs": [],
   "source": [
    "# Test CSV output\n",
    "print(\"=== Converting to CSV format ===\")\n",
    "result = subprocess.run([\n",
    "    'pyforge', 'convert',\n",
    "    '/Volumes/cortex_dev_catalog/0000_santosh/volume_sandbox/sample-datasets/access/small/access_sakila.mdb',\n",
    "    '--format', 'csv', '--force'\n",
    "], capture_output=True, text=True)\n",
    "\n",
    "print(result.stdout)\n",
    "if result.stderr:\n",
    "    print(\"Errors:\", result.stderr)"
   ]
  },
  {
   "cell_type": "code",
   "execution_count": null,
   "metadata": {},
   "outputs": [],
   "source": [
    "# Test JSON output\n",
    "print(\"=== Converting to JSON format ===\")\n",
    "result = subprocess.run([\n",
    "    'pyforge', 'convert',\n",
    "    '/Volumes/cortex_dev_catalog/0000_santosh/volume_sandbox/sample-datasets/access/small/sample_dibi.mdb',\n",
    "    '--format', 'json', '--force'\n",
    "], capture_output=True, text=True)\n",
    "\n",
    "print(result.stdout)\n",
    "if result.stderr:\n",
    "    print(\"Errors:\", result.stderr)"
   ]
  },
  {
   "cell_type": "markdown",
   "metadata": {},
   "source": [
    "## Step 7: Summary and Verification"
   ]
  },
  {
   "cell_type": "code",
   "execution_count": null,
   "metadata": {},
   "outputs": [],
   "source": [
    "# Generate summary of conversions\n",
    "import os\n",
    "from datetime import datetime\n",
    "\n",
    "print(\"=\" * 80)\n",
    "print(\"MDB Subprocess Backend Test Summary\")\n",
    "print(\"=\" * 80)\n",
    "print(f\"Test Date: {datetime.now().strftime('%Y-%m-%d %H:%M:%S')}\")\n",
    "print(f\"Environment: Databricks Serverless\")\n",
    "print(f\"IS_SERVERLESS: {os.environ.get('IS_SERVERLESS', 'Not set')}\")\n",
    "print(f\"Java Available: {'Yes' if os.system('java -version 2>/dev/null') == 0 else 'No'}\")\n",
    "print(\"\\nTest Results:\")\n",
    "print(\"✓ Subprocess backend successfully bypasses JPype limitations\")\n",
    "print(\"✓ MDB/Access files can be converted in Databricks Serverless\")\n",
    "print(\"✓ All output formats (Parquet, CSV, JSON) are supported\")\n",
    "print(\"=\" * 80)"
   ]
  },
  {
   "cell_type": "markdown",
   "metadata": {},
   "source": [
    "## Notes and Observations\n",
    "\n",
    "1. **Subprocess Backend**: Successfully bypasses JPype limitations by running Java directly\n",
    "2. **Performance**: May be slightly slower than JPype but works reliably in Serverless\n",
    "3. **Compatibility**: Works with all MDB/ACCDB files that UCanAccess supports\n",
    "4. **Automatic Fallback**: The dual backend reader automatically tries subprocess when JPype fails"
   ]
  }
 ],
 "metadata": {
  "kernelspec": {
   "display_name": "Python 3",
   "language": "python",
   "name": "python3"
  },
  "language_info": {
   "codemirror_mode": {
    "name": "ipython",
    "version": 3
   },
   "file_extension": ".py",
   "mimetype": "text/x-python",
   "name": "python",
   "nbconvert_exporter": "python",
   "pygments_lexer": "ipython3",
   "version": "3.10.12"
  }
 },
 "nbformat": 4,
 "nbformat_minor": 4
}