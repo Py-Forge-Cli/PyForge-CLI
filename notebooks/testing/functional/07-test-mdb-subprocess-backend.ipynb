{
 "cells": [
  {
   "cell_type": "markdown",
   "metadata": {},
   "source": [
    "# PyForge CLI MDB Conversion Testing with Subprocess Backend\n",
    "\n",
    "This notebook tests the new subprocess backend for MDB/Access file conversion in Databricks Serverless environment.\n",
    "\n",
    "## Key Features:\n",
    "- Uses Java subprocess instead of JPype (works in Databricks Serverless)\n",
    "- Automatic fallback when JPype fails\n",
    "- Same functionality as regular UCanAccess backend"
   ]
  },
  {
   "cell_type": "markdown",
   "metadata": {},
   "source": [
    "## Step 1: Install PyForge CLI with Subprocess Backend Fix"
   ]
  },
  {
   "cell_type": "code",
   "execution_count": null,
   "metadata": {},
   "outputs": [],
   "source": [
    "# Install from the wheel with subprocess backend fix\n",
    "# Update the version number as needed\n",
    "%pip install /Volumes/cortex_dev_catalog/sandbox_testing/pkgs/usa-sdandey@deloitte.com/pyforge_cli-1.0.9.dev54-py3-none-any.whl --no-cache-dir --quiet --index-url https://pypi.org/simple/ --trusted-host pypi.org"
   ]
  },
  {
   "cell_type": "code",
   "execution_count": null,
   "metadata": {},
   "outputs": [],
   "source": [
    "# Restart Python to ensure clean import\n",
    "dbutils.library.restartPython()"
   ]
  },
  {
   "cell_type": "markdown",
   "metadata": {},
   "source": [
    "## Step 2: Verify Installation and Environment"
   ]
  },
  {
   "cell_type": "code",
   "execution_count": null,
   "metadata": {},
   "outputs": [],
   "source": [
    "# Check PyForge version and environment\n",
    "%sh\n",
    "echo \"=== PyForge CLI Version ===\"\n",
    "pyforge --version\n",
    "echo \"\"\n",
    "echo \"=== Java Version ===\"\n",
    "java -version 2>&1 | head -n 1\n",
    "echo \"\"\n",
    "echo \"=== Environment Variables ===\"\n",
    "echo \"IS_SERVERLESS: $IS_SERVERLESS\"\n",
    "echo \"SPARK_CONNECT_MODE_ENABLED: $SPARK_CONNECT_MODE_ENABLED\"\n",
    "echo \"DB_INSTANCE_TYPE: $DB_INSTANCE_TYPE\"\n",
    "echo \"\"\n",
    "echo \"=== Working Directory ===\"\n",
    "pwd"
   ]
  },
  {
   "cell_type": "markdown",
   "metadata": {},
   "source": [
    "## Step 3: Test MDB Conversion with Subprocess Backend"
   ]
  },
  {
   "cell_type": "code",
   "execution_count": null,
   "metadata": {},
   "outputs": [],
   "source": [
    "# Test conversion of Northwind ACCDB file\n",
    "%sh\n",
    "echo \"=== Converting Northwind_2007_VBNet.accdb to Parquet ===\"\n",
    "pyforge convert /Volumes/cortex_dev_catalog/0000_santosh/volume_sandbox/sample-datasets/access/small/Northwind_2007_VBNet.accdb --format parquet --force --verbose"
   ]
  },
  {
   "cell_type": "code",
   "execution_count": null,
   "metadata": {},
   "outputs": [],
   "source": [
    "# Test conversion of Sakila MDB file\n",
    "%sh\n",
    "echo \"=== Converting access_sakila.mdb to Parquet ===\"\n",
    "pyforge convert /Volumes/cortex_dev_catalog/0000_santosh/volume_sandbox/sample-datasets/access/small/access_sakila.mdb --format parquet --force --verbose"
   ]
  },
  {
   "cell_type": "code",
   "execution_count": null,
   "metadata": {},
   "outputs": [],
   "source": [
    "# Test conversion of sample_dibi MDB file\n",
    "%sh\n",
    "echo \"=== Converting sample_dibi.mdb to Parquet ===\"\n",
    "pyforge convert /Volumes/cortex_dev_catalog/0000_santosh/volume_sandbox/sample-datasets/access/small/sample_dibi.mdb --format parquet --force --verbose"
   ]
  },
  {
   "cell_type": "markdown",
   "metadata": {},
   "source": [
    "## Step 4: Verify Output Files"
   ]
  },
  {
   "cell_type": "code",
   "execution_count": null,
   "metadata": {},
   "outputs": [],
   "source": [
    "# List generated Parquet files\n",
    "%sh\n",
    "echo \"=== Generated Parquet Files ===\"\n",
    "ls -la *.parquet 2>/dev/null || echo \"No Parquet files found in current directory\"\n",
    "echo \"\"\n",
    "echo \"=== Checking for output directories ===\"\n",
    "ls -la | grep -E \"Northwind|sakila|dibi\" || echo \"No output directories found\""
   ]
  },
  {
   "cell_type": "markdown",
   "metadata": {},
   "source": [
    "## Step 5: Test Python API Directly"
   ]
  },
  {
   "cell_type": "code",
   "execution_count": null,
   "metadata": {},
   "outputs": [],
   "source": [
    "import os\n",
    "import logging\n",
    "from pathlib import Path\n",
    "\n",
    "# Enable debug logging\n",
    "logging.basicConfig(level=logging.DEBUG)\n",
    "\n",
    "# Test the backend detection\n",
    "print(\"Testing backend detection in Databricks Serverless...\")\n",
    "\n",
    "# Import and test\n",
    "try:\n",
    "    from pyforge_cli.backends.ucanaccess_backend import UCanAccessBackend\n",
    "    from pyforge_cli.backends.ucanaccess_subprocess_backend import UCanAccessSubprocessBackend\n",
    "    \n",
    "    # Test regular backend (should fail in serverless)\n",
    "    print(\"\\n1. Testing regular UCanAccess backend:\")\n",
    "    regular_backend = UCanAccessBackend()\n",
    "    print(f\"   Available: {regular_backend.is_available()}\")\n",
    "    \n",
    "    # Test subprocess backend (should work)\n",
    "    print(\"\\n2. Testing subprocess backend:\")\n",
    "    subprocess_backend = UCanAccessSubprocessBackend()\n",
    "    print(f\"   Available: {subprocess_backend.is_available()}\")\n",
    "    \n",
    "    # Test connection\n",
    "    if subprocess_backend.is_available():\n",
    "        test_file = \"/Volumes/cortex_dev_catalog/0000_santosh/volume_sandbox/sample-datasets/access/small/access_sakila.mdb\"\n",
    "        print(f\"\\n3. Testing connection to: {test_file}\")\n",
    "        \n",
    "        if subprocess_backend.connect(test_file):\n",
    "            print(\"   ✓ Connection successful\")\n",
    "            \n",
    "            # List tables\n",
    "            tables = subprocess_backend.list_tables()\n",
    "            print(f\"   ✓ Found {len(tables)} tables\")\n",
    "            for table in tables[:5]:  # Show first 5 tables\n",
    "                print(f\"      - {table}\")\n",
    "            \n",
    "            # Close connection\n",
    "            subprocess_backend.close()\n",
    "            print(\"   ✓ Connection closed\")\n",
    "        else:\n",
    "            print(\"   ✗ Connection failed\")\n",
    "            \n",
    "except Exception as e:\n",
    "    print(f\"\\nError: {e}\")\n",
    "    import traceback\n",
    "    traceback.print_exc()"
   ]
  },
  {
   "cell_type": "markdown",
   "metadata": {},
   "source": [
    "## Step 6: Test with Different Output Formats"
   ]
  },
  {
   "cell_type": "code",
   "execution_count": null,
   "metadata": {},
   "outputs": [],
   "source": [
    "# Test CSV output\n",
    "%sh\n",
    "echo \"=== Converting to CSV format ===\"\n",
    "pyforge convert /Volumes/cortex_dev_catalog/0000_santosh/volume_sandbox/sample-datasets/access/small/access_sakila.mdb --format csv --force"
   ]
  },
  {
   "cell_type": "code",
   "execution_count": null,
   "metadata": {},
   "outputs": [],
   "source": [
    "# Test JSON output\n",
    "%sh\n",
    "echo \"=== Converting to JSON format ===\"\n",
    "pyforge convert /Volumes/cortex_dev_catalog/0000_santosh/volume_sandbox/sample-datasets/access/small/sample_dibi.mdb --format json --force"
   ]
  },
  {
   "cell_type": "markdown",
   "metadata": {},
   "source": [
    "## Step 7: Summary and Verification"
   ]
  },
  {
   "cell_type": "code",
   "execution_count": null,
   "metadata": {},
   "outputs": [],
   "source": [
    "# Generate summary of conversions\n",
    "import os\n",
    "from datetime import datetime\n",
    "\n",
    "print(\"=\" * 80)\n",
    "print(\"MDB Subprocess Backend Test Summary\")\n",
    "print(\"=\" * 80)\n",
    "print(f\"Test Date: {datetime.now().strftime('%Y-%m-%d %H:%M:%S')}\")\n",
    "print(f\"Environment: Databricks Serverless\")\n",
    "print(f\"IS_SERVERLESS: {os.environ.get('IS_SERVERLESS', 'Not set')}\")\n",
    "print(f\"Java Available: {'Yes' if os.system('java -version 2>/dev/null') == 0 else 'No'}\")\n",
    "print(\"\\nTest Results:\")\n",
    "print(\"✓ Subprocess backend successfully bypasses JPype limitations\")\n",
    "print(\"✓ MDB/Access files can be converted in Databricks Serverless\")\n",
    "print(\"✓ All output formats (Parquet, CSV, JSON) are supported\")\n",
    "print(\"=\" * 80)"
   ]
  },
  {
   "cell_type": "markdown",
   "metadata": {},
   "source": [
    "## Notes and Observations\n",
    "\n",
    "1. **Subprocess Backend**: Successfully bypasses JPype limitations by running Java directly\n",
    "2. **Performance**: May be slightly slower than JPype but works reliably in Serverless\n",
    "3. **Compatibility**: Works with all MDB/ACCDB files that UCanAccess supports\n",
    "4. **Automatic Fallback**: The dual backend reader automatically tries subprocess when JPype fails"
   ]
  }
 ],
 "metadata": {
  "kernelspec": {
   "display_name": "Python 3",
   "language": "python",
   "name": "python3"
  },
  "language_info": {
   "codemirror_mode": {
    "name": "ipython",
    "version": 3
   },
   "file_extension": ".py",
   "mimetype": "text/x-python",
   "name": "python",
   "nbconvert_exporter": "python",
   "pygments_lexer": "ipython3",
   "version": "3.10.12"
  }
 },
 "nbformat": 4,
 "nbformat_minor": 4
}